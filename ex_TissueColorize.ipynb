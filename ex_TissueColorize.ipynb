{
 "cells": [
  {
   "cell_type": "code",
   "execution_count": null,
   "metadata": {
    "collapsed": true
   },
   "outputs": [],
   "source": [
    "import PIL.Image as Image\n",
    "import PIL.ImageChops as ImageChops\n",
    "from scipy import ndimage\n",
    "import numpy\n",
    "from matplotlib import pyplot as plt\n",
    "%matplotlib inline"
   ]
  },
  {
   "cell_type": "code",
   "execution_count": null,
   "metadata": {
    "collapsed": true
   },
   "outputs": [],
   "source": [
    "def frange(endRGB):\n",
    "    shift = int(25)\n",
    "    shiftvalues = [0] * shift\n",
    "    RGB = [list()] * 3\n",
    "    Table = list()\n",
    "    for i in range(3):\n",
    "        color = list()\n",
    "        color.extend(shiftvalues)\n",
    "        color.extend(numpy.linspace(0, endRGB[i], 256 - shift, True))\n",
    "        Table.extend(color)\n",
    "    return Table"
   ]
  },
  {
   "cell_type": "code",
   "execution_count": null,
   "metadata": {
    "collapsed": false
   },
   "outputs": [],
   "source": [
    "file_path = 'images/Tissue1.jpg'\n",
    "im = ndimage.imread(file_path)\n",
    "plt.imshow(im, cmap='gray', interpolation='nearest');"
   ]
  },
  {
   "cell_type": "code",
   "execution_count": null,
   "metadata": {
    "collapsed": false
   },
   "outputs": [],
   "source": [
    "ImageNew1 = Image.fromarray(im)\n",
    "buffer1 = ImageNew1.convert('RGB')\n",
    "LUTright = frange((222, 212, 88))\n",
    "LUTleft = frange((35, 165, 75))\n",
    "Leftside = buffer1.point(LUTleft)\n",
    "FinalImage = ImageChops.invert(Leftside)\n",
    "plt.imshow(numpy.asarray(FinalImage));"
   ]
  },
  {
   "cell_type": "code",
   "execution_count": null,
   "metadata": {
    "collapsed": true
   },
   "outputs": [],
   "source": []
  }
 ],
 "metadata": {
  "kernelspec": {
   "display_name": "Python 2",
   "language": "python",
   "name": "python2"
  },
  "language_info": {
   "codemirror_mode": {
    "name": "ipython",
    "version": 2
   },
   "file_extension": ".py",
   "mimetype": "text/x-python",
   "name": "python",
   "nbconvert_exporter": "python",
   "pygments_lexer": "ipython2",
   "version": "2.7.9"
  }
 },
 "nbformat": 4,
 "nbformat_minor": 0
}
