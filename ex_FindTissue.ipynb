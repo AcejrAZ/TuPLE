{
 "cells": [
  {
   "cell_type": "code",
   "execution_count": null,
   "metadata": {
    "collapsed": false
   },
   "outputs": [],
   "source": [
    "import numpy\n",
    "from scipy import ndimage\n",
    "from skimage.filters import threshold_otsu\n",
    "from skimage import morphology\n",
    "from matplotlib import pyplot as plt\n",
    "%matplotlib inline\n",
    "from IPython import display"
   ]
  },
  {
   "cell_type": "code",
   "execution_count": null,
   "metadata": {
    "collapsed": true
   },
   "outputs": [],
   "source": [
    "file_path = 'images/TMA.jpg'"
   ]
  },
  {
   "cell_type": "code",
   "execution_count": null,
   "metadata": {
    "collapsed": false
   },
   "outputs": [],
   "source": [
    "im = ndimage.imread(file_path)\n",
    "plt.imshow(im, cmap='gray', interpolation='nearest');"
   ]
  },
  {
   "cell_type": "code",
   "execution_count": null,
   "metadata": {
    "collapsed": false
   },
   "outputs": [],
   "source": [
    "im_half = numpy.hsplit(im, 2)[0]\n",
    "im_qrt = numpy.vsplit(im_half, 2)[0]\n",
    "plt.imshow(im_qrt, cmap='gray', interpolation='nearest');"
   ]
  },
  {
   "cell_type": "code",
   "execution_count": null,
   "metadata": {
    "collapsed": false
   },
   "outputs": [],
   "source": [
    "thresh = threshold_otsu(im_qrt)\n",
    "im_thres = im_qrt > thresh\n",
    "plt.imshow(im_thres, cmap='gray', interpolation='nearest');"
   ]
  },
  {
   "cell_type": "code",
   "execution_count": null,
   "metadata": {
    "collapsed": false
   },
   "outputs": [],
   "source": [
    "im_clean = morphology.remove_small_objects(im_thres, 5000)\n",
    "plt.imshow(im_clean, cmap='gray', interpolation='nearest');"
   ]
  },
  {
   "cell_type": "code",
   "execution_count": null,
   "metadata": {
    "collapsed": false,
    "scrolled": false
   },
   "outputs": [],
   "source": [
    "im_dilate = ndimage.binary_dilation(im_clean, iterations=5)\n",
    "plt.imshow(im_dilate, cmap='gray', interpolation='nearest');"
   ]
  },
  {
   "cell_type": "code",
   "execution_count": null,
   "metadata": {
    "collapsed": false,
    "scrolled": false
   },
   "outputs": [],
   "source": [
    "im_filled = ndimage.binary_fill_holes(im_dilate)\n",
    "plt.imshow(im_filled, cmap='gray', interpolation='nearest');"
   ]
  },
  {
   "cell_type": "code",
   "execution_count": null,
   "metadata": {
    "collapsed": false,
    "scrolled": true
   },
   "outputs": [],
   "source": [
    "im_label, num = ndimage.label(im_filled)\n",
    "plt.imshow(im_label);"
   ]
  },
  {
   "cell_type": "code",
   "execution_count": null,
   "metadata": {
    "collapsed": true
   },
   "outputs": [],
   "source": [
    "slices = ndimage.find_objects(im_label)\n",
    "centroids = ndimage.measurements.center_of_mass(im_filled, im_label, xrange(1, num + 1))\n",
    "x, y = [], []\n",
    "for dy, dx in slices:\n",
    "    x_center = (dx.start + dx.stop - 1) / 2.0\n",
    "    x.append(x_center)\n",
    "    y_center = (dy.start + dy.stop - 1) / 2.0\n",
    "    y.append(y_center)"
   ]
  },
  {
   "cell_type": "code",
   "execution_count": null,
   "metadata": {
    "collapsed": false,
    "scrolled": true
   },
   "outputs": [],
   "source": [
    "plt.imshow(im_label)\n",
    "plt.autoscale(False)\n",
    "plt.plot(x, y, 'ro');"
   ]
  },
  {
   "cell_type": "code",
   "execution_count": null,
   "metadata": {
    "collapsed": false
   },
   "outputs": [],
   "source": [
    "file_path = 'images/CMA.jpg'\n",
    "im = ndimage.imread(file_path)\n",
    "im_half = numpy.hsplit(im, 2)[0]\n",
    "im_qrt = numpy.vsplit(im_half, 2)[0]\n",
    "thresh = threshold_otsu(im_qrt)\n",
    "im_thres = im_qrt > thresh\n",
    "im_clean = morphology.remove_small_objects(im_thres, 10)\n",
    "im_dilate = ndimage.binary_dilation(im_clean, iterations=30)\n",
    "im_clean2 = morphology.remove_small_objects(im_dilate, 50000)\n",
    "im_filled = ndimage.binary_fill_holes(im_clean2)\n",
    "im_label, num = ndimage.label(im_filled)\n",
    "slices = ndimage.find_objects(im_label)\n",
    "centroids = ndimage.measurements.center_of_mass(im_filled, im_label, xrange(1, num + 1))\n",
    "x, y = [], []\n",
    "for dy, dx in slices:\n",
    "    x_center = (dx.start + dx.stop - 1) / 2.0\n",
    "    x.append(x_center)\n",
    "    y_center = (dy.start + dy.stop - 1) / 2.0\n",
    "    y.append(y_center)\n",
    "plt.imshow(im_label)\n",
    "plt.autoscale(False)\n",
    "plt.plot(x, y, 'ro');"
   ]
  },
  {
   "cell_type": "code",
   "execution_count": null,
   "metadata": {
    "collapsed": false
   },
   "outputs": [],
   "source": [
    "plt.imshow(im_qrt, cmap='gray', interpolation='nearest');"
   ]
  },
  {
   "cell_type": "code",
   "execution_count": null,
   "metadata": {
    "collapsed": false
   },
   "outputs": [],
   "source": [
    "im_dilate_ex = im_clean\n",
    "for num in xrange(10):\n",
    "    im_dilate_ex = ndimage.binary_dilation(im_dilate_ex, iterations=3)\n",
    "    plt.imshow(im_dilate_ex, cmap='gray', interpolation='nearest');\n",
    "    display.clear_output(wait=True)\n",
    "    display.display(plt.gcf())\n",
    "display.clear_output(wait=True)\n",
    "fig = plt.figure()\n",
    "a=fig.add_subplot(1,2,1)\n",
    "imgplot = plt.imshow(im_dilate_ex, cmap='gray', interpolation='nearest');\n",
    "a=fig.add_subplot(1,2,2)\n",
    "imgplot = plt.imshow(im_clean, cmap='gray', interpolation='nearest');\n",
    "plt.show()"
   ]
  },
  {
   "cell_type": "code",
   "execution_count": null,
   "metadata": {
    "collapsed": false
   },
   "outputs": [],
   "source": [
    "file_path = 'images/Tissue1.jpg'\n",
    "im = ndimage.imread(file_path)\n",
    "thresh = threshold_otsu(im)\n",
    "im_thres = im > thresh\n",
    "im_clean = morphology.remove_small_objects(im_thres, 5000)\n",
    "im_dilate = ndimage.binary_dilation(im_clean, iterations=20)\n",
    "im_filled = ndimage.binary_fill_holes(im_dilate)\n",
    "im_label, num = ndimage.label(im_filled)\n",
    "slices = ndimage.find_objects(im_label)\n",
    "centroids = ndimage.measurements.center_of_mass(im_filled, im_label, xrange(1, num + 1))\n",
    "x, y = [], []\n",
    "for dy, dx in slices:\n",
    "    x_center = (dx.start + dx.stop - 1) / 2.0\n",
    "    x.append(x_center)\n",
    "    y_center = (dy.start + dy.stop - 1) / 2.0\n",
    "    y.append(y_center)\n",
    "plt.imshow(im_label)\n",
    "plt.autoscale(False)\n",
    "plt.plot(x, y, 'ro');"
   ]
  },
  {
   "cell_type": "code",
   "execution_count": null,
   "metadata": {
    "collapsed": false
   },
   "outputs": [],
   "source": [
    "plt.imshow(im, cmap='gray', interpolation='nearest');"
   ]
  },
  {
   "cell_type": "code",
   "execution_count": null,
   "metadata": {
    "collapsed": true
   },
   "outputs": [],
   "source": []
  }
 ],
 "metadata": {
  "kernelspec": {
   "display_name": "Python 2",
   "language": "python",
   "name": "python2"
  },
  "language_info": {
   "codemirror_mode": {
    "name": "ipython",
    "version": 2
   },
   "file_extension": ".py",
   "mimetype": "text/x-python",
   "name": "python",
   "nbconvert_exporter": "python",
   "pygments_lexer": "ipython2",
   "version": "2.7.9"
  }
 },
 "nbformat": 4,
 "nbformat_minor": 0
}
