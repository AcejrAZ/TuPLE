{
 "cells": [
  {
   "cell_type": "code",
   "execution_count": null,
   "metadata": {
    "collapsed": false
   },
   "outputs": [],
   "source": [
    "import automatic_registration_class\n",
    "import skimage.io as io\n",
    "import skimage\n",
    "from skimage.feature import plot_matches\n",
    "import matplotlib.pyplot as plt\n",
    "%matplotlib inline"
   ]
  },
  {
   "cell_type": "code",
   "execution_count": null,
   "metadata": {
    "collapsed": false
   },
   "outputs": [],
   "source": [
    "src_image = io.imread(\"images/SL_1.jpg\")\n",
    "dst_image = io.imread(\"images/SL_2.jpg\")\n",
    "matcher = automatic_registration_class.ImageRegistrationTool(src_image, dst_image)\n",
    "tool, inliers = matcher.get_translation_tool()"
   ]
  },
  {
   "cell_type": "code",
   "execution_count": null,
   "metadata": {
    "collapsed": true
   },
   "outputs": [],
   "source": [
    "src_points = [[225,250], [260,60]]"
   ]
  },
  {
   "cell_type": "code",
   "execution_count": null,
   "metadata": {
    "collapsed": false
   },
   "outputs": [],
   "source": [
    "dst_points = []\n",
    "\n",
    "for item in src_points:\n",
    "    dst_points.append(matcher.translate_rois(tool, item)[0].tolist())\n",
    "print dst_points"
   ]
  },
  {
   "cell_type": "code",
   "execution_count": null,
   "metadata": {
    "collapsed": false
   },
   "outputs": [],
   "source": [
    "fig = plt.figure()\n",
    "a=fig.add_subplot(1,2,1)\n",
    "imgplot = plt.imshow(src_image, cmap='gray', interpolation='nearest');\n",
    "plt.plot(*zip(*src_points), marker=\"o\", color='r', ls='')\n",
    "a=fig.add_subplot(1,2,2)\n",
    "imgplot = plt.imshow(dst_image, cmap='gray', interpolation='nearest');\n",
    "plt.plot(*zip(*dst_points), marker=\"o\", color='r', ls='')\n",
    "plt.show()"
   ]
  },
  {
   "cell_type": "code",
   "execution_count": null,
   "metadata": {
    "collapsed": false
   },
   "outputs": [],
   "source": [
    "src_image = io.imread(\"images/rot_1.jpg\")\n",
    "dst_image = io.imread(\"images/rot_2.jpg\")\n",
    "src_points = [[700,180], [400,800]]"
   ]
  },
  {
   "cell_type": "code",
   "execution_count": null,
   "metadata": {
    "collapsed": false
   },
   "outputs": [],
   "source": [
    "src_image = io.imread(\"images/exp_1.jpg\")\n",
    "src_image = skimage.transform.rotate(src_image, -90)\n",
    "dst_image = io.imread(\"images/exp_2.jpg\")\n",
    "src_points = [[425,600], [825,425]]"
   ]
  },
  {
   "cell_type": "code",
   "execution_count": null,
   "metadata": {
    "collapsed": false
   },
   "outputs": [],
   "source": [
    "matcher = automatic_registration_class.ImageRegistrationTool(src_image, dst_image)\n",
    "tool, inliers = matcher.get_translation_tool(1000)\n",
    "\n",
    "dst_points = []\n",
    "for item in src_points:\n",
    "    dst_points.append(matcher.translate_rois(tool, item)[0].tolist())\n",
    "print dst_points\n",
    "fig = plt.figure()\n",
    "a=fig.add_subplot(1,2,1)\n",
    "imgplot = plt.imshow(src_image, cmap='gray', interpolation='nearest');\n",
    "plt.plot(*zip(*src_points), marker=\"o\", color='r', ls='')\n",
    "a=fig.add_subplot(1,2,2)\n",
    "imgplot = plt.imshow(dst_image, cmap='gray', interpolation='nearest');\n",
    "plt.plot(*zip(*dst_points), marker=\"o\", color='r', ls='')\n",
    "plt.show()"
   ]
  },
  {
   "cell_type": "code",
   "execution_count": null,
   "metadata": {
    "collapsed": false
   },
   "outputs": [],
   "source": [
    "fig, ax = plt.subplots(nrows=1, ncols=1)\n",
    "plot_matches(ax, src_image, dst_image, matcher.keypoints1, matcher.keypoints2, matcher.matches12)"
   ]
  },
  {
   "cell_type": "code",
   "execution_count": null,
   "metadata": {
    "collapsed": true
   },
   "outputs": [],
   "source": []
  }
 ],
 "metadata": {
  "kernelspec": {
   "display_name": "Python 2",
   "language": "python",
   "name": "python2"
  },
  "language_info": {
   "codemirror_mode": {
    "name": "ipython",
    "version": 2
   },
   "file_extension": ".py",
   "mimetype": "text/x-python",
   "name": "python",
   "nbconvert_exporter": "python",
   "pygments_lexer": "ipython2",
   "version": "2.7.9"
  }
 },
 "nbformat": 4,
 "nbformat_minor": 0
}
